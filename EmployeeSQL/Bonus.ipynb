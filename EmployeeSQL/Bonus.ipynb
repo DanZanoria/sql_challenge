{
 "cells": [
  {
   "cell_type": "code",
   "execution_count": 1,
   "metadata": {},
   "outputs": [],
   "source": [
    "# I will add extra steps to this code just so I can review the next homework, I will be making several assumptions.\n",
    "# Assumption 1: The SQL database was not studied thoroughly.\n",
    "# Assumption 2: This is the first file opened either by acccident or in purpose. \n",
    "    # Going by Assumption 2. That means everything known about the DB is unknown.\n",
    "#Assumption 3: I am using this a thorough review. So i will put comments throughout to indicate where its really a review sake and not really belonging to either the above assumption.\n",
    "\n",
    "# First Lets get the Password And Username imported\n",
    "from config import USERN, PWD\n",
    "\n",
    "import sqlalchemy\n",
    "from sqlalchemy.orm import Session\n",
    "from sqlalchemy.ext.automap import automap_base\n",
    "from sqlalchemy import create_engine, inspect, func\n",
    "\n",
    "# Creating the Engine\n",
    "from sqlalchemy import create_engine\n",
    "engine = create_engine(f'postgresql://'+USERN+':'+ PWD +'@localhost:5432/EmployeeDBz')\n",
    "connection = engine.connect()\n",
    "\n",
    "# Install Matplotlib to chart\n",
    "import pandas as pd\n",
    "import matplotlib\n",
    "from matplotlib import style\n",
    "style.use('seaborn')\n",
    "import matplotlib.pyplot as plt\n",
    "\n"
   ]
  },
  {
   "cell_type": "code",
   "execution_count": 2,
   "metadata": {},
   "outputs": [
    {
     "output_type": "execute_result",
     "data": {
      "text/plain": [
       "['dept_empl', 'departments', 'titles', 'employees', 'dept_man', 'salaries']"
      ]
     },
     "metadata": {},
     "execution_count": 2
    }
   ],
   "source": [
    "\n",
    "# Inspector is used to get all the table names.\n",
    "\n",
    "inspector = inspect(engine)\n",
    "inspector.get_table_names()\n",
    "\n",
    "\n"
   ]
  },
  {
   "cell_type": "code",
   "execution_count": 3,
   "metadata": {},
   "outputs": [
    {
     "output_type": "execute_result",
     "data": {
      "text/plain": [
       "[{'name': 'emp_no',\n",
       "  'type': INTEGER(),\n",
       "  'nullable': False,\n",
       "  'default': None,\n",
       "  'autoincrement': False,\n",
       "  'comment': None},\n",
       " {'name': 'salary',\n",
       "  'type': MONEY(),\n",
       "  'nullable': False,\n",
       "  'default': None,\n",
       "  'autoincrement': False,\n",
       "  'comment': None}]"
      ]
     },
     "metadata": {},
     "execution_count": 3
    }
   ],
   "source": [
    "# So we got 6 tables\n",
    "# From this 6 we need employees, titles, salaries\n",
    "\n",
    "# Lets see the what are the data types for the 3 tables. And their respective column names\n",
    "# This will also have a copy and paste purpose later on\n",
    "\n",
    "SalaryCol = inspector.get_columns('salaries')\n",
    "SalaryCol"
   ]
  },
  {
   "cell_type": "code",
   "execution_count": 4,
   "metadata": {},
   "outputs": [
    {
     "output_type": "execute_result",
     "data": {
      "text/plain": [
       "[{'name': 'emp_no',\n",
       "  'type': INTEGER(),\n",
       "  'nullable': False,\n",
       "  'default': None,\n",
       "  'autoincrement': False,\n",
       "  'comment': None},\n",
       " {'name': 'emp_title_id',\n",
       "  'type': VARCHAR(),\n",
       "  'nullable': False,\n",
       "  'default': None,\n",
       "  'autoincrement': False,\n",
       "  'comment': None},\n",
       " {'name': 'birth_date',\n",
       "  'type': DATE(),\n",
       "  'nullable': False,\n",
       "  'default': None,\n",
       "  'autoincrement': False,\n",
       "  'comment': None},\n",
       " {'name': 'first_name',\n",
       "  'type': VARCHAR(),\n",
       "  'nullable': False,\n",
       "  'default': None,\n",
       "  'autoincrement': False,\n",
       "  'comment': None},\n",
       " {'name': 'last_name',\n",
       "  'type': VARCHAR(),\n",
       "  'nullable': False,\n",
       "  'default': None,\n",
       "  'autoincrement': False,\n",
       "  'comment': None},\n",
       " {'name': 'sex',\n",
       "  'type': VARCHAR(),\n",
       "  'nullable': False,\n",
       "  'default': None,\n",
       "  'autoincrement': False,\n",
       "  'comment': None},\n",
       " {'name': 'hire_date',\n",
       "  'type': DATE(),\n",
       "  'nullable': False,\n",
       "  'default': None,\n",
       "  'autoincrement': False,\n",
       "  'comment': None}]"
      ]
     },
     "metadata": {},
     "execution_count": 4
    }
   ],
   "source": [
    "EmpCol = inspector.get_columns('employees')\n",
    "EmpCol\n",
    "\n",
    "# The employee dabtabase is not really needed but it connect to both salaries, and title DB with its emp_no PK and emp_title_id. So it will be bridge that connects the 2 database."
   ]
  },
  {
   "cell_type": "code",
   "execution_count": 5,
   "metadata": {},
   "outputs": [
    {
     "output_type": "execute_result",
     "data": {
      "text/plain": [
       "[{'name': 'title_id',\n",
       "  'type': VARCHAR(),\n",
       "  'nullable': False,\n",
       "  'default': None,\n",
       "  'autoincrement': False,\n",
       "  'comment': None},\n",
       " {'name': 'title',\n",
       "  'type': VARCHAR(),\n",
       "  'nullable': False,\n",
       "  'default': None,\n",
       "  'autoincrement': False,\n",
       "  'comment': None}]"
      ]
     },
     "metadata": {},
     "execution_count": 5
    }
   ],
   "source": [
    "titlesCol = inspector.get_columns('titles')\n",
    "titlesCol"
   ]
  },
  {
   "cell_type": "code",
   "execution_count": 6,
   "metadata": {},
   "outputs": [
    {
     "output_type": "execute_result",
     "data": {
      "text/plain": [
       "[('s0001', 'Staff'),\n",
       " ('s0002', 'Senior Staff'),\n",
       " ('e0001', 'Assistant Engineer'),\n",
       " ('e0002', 'Engineer'),\n",
       " ('e0003', 'Senior Engineer'),\n",
       " ('e0004', 'Technique Leader'),\n",
       " ('m0001', 'Manager')]"
      ]
     },
     "metadata": {},
     "execution_count": 6
    }
   ],
   "source": [
    "# Performing an Engine Execute to get at least the Data in Employee. With a LIMIT 20. I want to see a lot of the data but not all the data.\n",
    "engine.execute('SELECT * FROM employees LIMIT 20').fetchall()\n",
    "engine.execute('SELECT * FROM salaries LIMIT 20').fetchall()\n",
    "engine.execute('SELECT * FROM titles').fetchall()\n",
    "#Just comment out the 2 that doesnt need to be seen. This is the final part in studying the Data. And titles only have a rows so Limit 20 is not needed. But feel free to put it back on just for consistency.\n",
    "\n"
   ]
  },
  {
   "cell_type": "code",
   "execution_count": 7,
   "metadata": {},
   "outputs": [],
   "source": [
    "\n",
    "#Now we can either reflect the Database to study it further or move forward. Since Im using this as a review. Lets reflect the DB to study it further.\n",
    "\n",
    "#Lets prepare the base to prepare for the reflection. And we can see how all this Data looks like. I would really look like. Since inspect is really just more less about the columns, and execute only shows the data.\n",
    "Base1 = automap_base()\n",
    "Base1.prepare(engine, reflect=True)\n",
    "Title = Base1.classes.titles\n",
    "\n",
    "\n",
    "\n",
    "Base3 = automap_base()\n",
    "Base3.prepare(engine, reflect=True)\n",
    "Employees = Base3.classes.employees\n",
    "\n",
    "Base2 = automap_base()\n",
    "Base2.prepare(engine, reflect=True)\n",
    "Salaries = Base2.classes.salaries\n",
    "\n",
    "#commenting out Salaries. I may have made an error while building the DB since self._data[key] error. \n",
    "#It wont be fixed for this assignment unless it will give me issues later on.\n"
   ]
  },
  {
   "cell_type": "code",
   "execution_count": 8,
   "metadata": {},
   "outputs": [],
   "source": [
    "\n",
    "# Now that we got know what Data we are working and what Data Types now we can start working\n",
    "\n",
    "# Start a session to query the database\n",
    "session = Session(engine)"
   ]
  },
  {
   "cell_type": "code",
   "execution_count": 9,
   "metadata": {},
   "outputs": [],
   "source": [
    "# For simplicity the one i want see will be the last which is salaries. Since thats the main criteria. And I only want to see the first row. It will be too much on employees,\n",
    "\n",
    "Empl1 = session.query(Employees).first()\n",
    "Empl1.__dict__\n",
    "\n",
    "title1 = session.query(Title).first()\n",
    "title1.__dict__\n",
    "\n",
    "\n",
    "salary1 = session.query(Salaries).first()\n",
    "# salary1.__dict__\n",
    "# I tried switching to .first to .all but i got a no attribute error __.dict___. Thats something I will look into more later. It will be ignored for this assignment.\n"
   ]
  },
  {
   "cell_type": "code",
   "execution_count": 10,
   "metadata": {},
   "outputs": [],
   "source": [
    "\n",
    "# Capturing the Data. Going with Titles first since its the quickest.\n",
    "\n",
    "# Rtitle = session.query(Title.title_id, Title.title)\n",
    "\n",
    "# title_id = []\n",
    "# titleco = []\n",
    "\n",
    "\n",
    "# for r in Rtitle:\n",
    "#     title_id.append(r[0])\n",
    "#     titleco.append(r[1])\n",
    "\n",
    "# title_id\n",
    "# titleco\n",
    "    \n",
    "\n",
    "# Remp = session.query(Employees.emp_no, Employees.emp_title_id)\n",
    "\n",
    "# emp_no = []\n",
    "# emp_title_id = []\n",
    "\n",
    "\n",
    "# for r in Remp:\n",
    "#     emp_no.append(r[0])\n",
    "#     emp_title_id.append(r[1])\n",
    "\n",
    "\n",
    "# RSal = session.query(Salaries.emp_no, Salaries.salary)\n",
    "\n",
    "# salary = []\n",
    "\n",
    "\n",
    "# for r in RSal:\n",
    "#     salary.append(r[1])\n",
    "   \n",
    "# # All the data is captured. I didnt caputure all the columns since many will repeat. I may not need emp_title_id. Since i already have the title id. I will probably not refer beack to the employees table again. \n",
    "\n",
    "# Update: I tried capturing  the data through this. Until i realized i needed a way to use group by\n"
   ]
  },
  {
   "cell_type": "code",
   "execution_count": 11,
   "metadata": {},
   "outputs": [],
   "source": [
    "#Querying all the 3 Tables\n",
    "# I am using the Day 2 Act 10 emoji plotting solved to get this part to help me.\n",
    "\n",
    "QEmp = session.query(Employees).statement\n",
    "QSal = session.query(Salaries).statement\n",
    "Qti = session.query(Title).statement"
   ]
  },
  {
   "cell_type": "code",
   "execution_count": 12,
   "metadata": {},
   "outputs": [
    {
     "output_type": "execute_result",
     "data": {
      "text/plain": [
       "   emp_no title_id  birth_date  first_name  last_name sex   hire_date\n",
       "0  473302    s0001  1953-07-25    Hideyuki   Zallocco   M  1990-04-28\n",
       "1  475053    e0002  1954-11-18       Byong  Delgrande   F  1991-09-07\n",
       "2   57444    e0002  1958-01-30       Berry       Babb   F  1992-03-21\n",
       "3  421786    s0001  1957-09-28       Xiong   Verhoeff   M  1987-11-26\n",
       "4  282238    e0003  1952-10-28  Abdelkader    Baumann   F  1991-01-18"
      ],
      "text/html": "<div>\n<style scoped>\n    .dataframe tbody tr th:only-of-type {\n        vertical-align: middle;\n    }\n\n    .dataframe tbody tr th {\n        vertical-align: top;\n    }\n\n    .dataframe thead th {\n        text-align: right;\n    }\n</style>\n<table border=\"1\" class=\"dataframe\">\n  <thead>\n    <tr style=\"text-align: right;\">\n      <th></th>\n      <th>emp_no</th>\n      <th>title_id</th>\n      <th>birth_date</th>\n      <th>first_name</th>\n      <th>last_name</th>\n      <th>sex</th>\n      <th>hire_date</th>\n    </tr>\n  </thead>\n  <tbody>\n    <tr>\n      <th>0</th>\n      <td>473302</td>\n      <td>s0001</td>\n      <td>1953-07-25</td>\n      <td>Hideyuki</td>\n      <td>Zallocco</td>\n      <td>M</td>\n      <td>1990-04-28</td>\n    </tr>\n    <tr>\n      <th>1</th>\n      <td>475053</td>\n      <td>e0002</td>\n      <td>1954-11-18</td>\n      <td>Byong</td>\n      <td>Delgrande</td>\n      <td>F</td>\n      <td>1991-09-07</td>\n    </tr>\n    <tr>\n      <th>2</th>\n      <td>57444</td>\n      <td>e0002</td>\n      <td>1958-01-30</td>\n      <td>Berry</td>\n      <td>Babb</td>\n      <td>F</td>\n      <td>1992-03-21</td>\n    </tr>\n    <tr>\n      <th>3</th>\n      <td>421786</td>\n      <td>s0001</td>\n      <td>1957-09-28</td>\n      <td>Xiong</td>\n      <td>Verhoeff</td>\n      <td>M</td>\n      <td>1987-11-26</td>\n    </tr>\n    <tr>\n      <th>4</th>\n      <td>282238</td>\n      <td>e0003</td>\n      <td>1952-10-28</td>\n      <td>Abdelkader</td>\n      <td>Baumann</td>\n      <td>F</td>\n      <td>1991-01-18</td>\n    </tr>\n  </tbody>\n</table>\n</div>"
     },
     "metadata": {},
     "execution_count": 12
    }
   ],
   "source": [
    "# Read all 3 tables and Capture them to a data frame\n",
    "Emp_df = pd.read_sql_query(QEmp, session.bind)\n",
    "\n",
    "\n",
    "RenDF = Emp_df.rename(columns={'emp_title_id':'title_id'})\n",
    "RenDF.head(5)\n",
    "\n",
    "#had to renmae the emp_title_id to title_id for merging purposes"
   ]
  },
  {
   "cell_type": "code",
   "execution_count": 13,
   "metadata": {},
   "outputs": [
    {
     "output_type": "execute_result",
     "data": {
      "text/plain": [
       "   emp_no      salary\n",
       "0   10001  $60,117.00\n",
       "1   10002  $65,828.00\n",
       "2   10003  $40,006.00\n",
       "3   10004  $40,054.00\n",
       "4   10005  $78,228.00"
      ],
      "text/html": "<div>\n<style scoped>\n    .dataframe tbody tr th:only-of-type {\n        vertical-align: middle;\n    }\n\n    .dataframe tbody tr th {\n        vertical-align: top;\n    }\n\n    .dataframe thead th {\n        text-align: right;\n    }\n</style>\n<table border=\"1\" class=\"dataframe\">\n  <thead>\n    <tr style=\"text-align: right;\">\n      <th></th>\n      <th>emp_no</th>\n      <th>salary</th>\n    </tr>\n  </thead>\n  <tbody>\n    <tr>\n      <th>0</th>\n      <td>10001</td>\n      <td>$60,117.00</td>\n    </tr>\n    <tr>\n      <th>1</th>\n      <td>10002</td>\n      <td>$65,828.00</td>\n    </tr>\n    <tr>\n      <th>2</th>\n      <td>10003</td>\n      <td>$40,006.00</td>\n    </tr>\n    <tr>\n      <th>3</th>\n      <td>10004</td>\n      <td>$40,054.00</td>\n    </tr>\n    <tr>\n      <th>4</th>\n      <td>10005</td>\n      <td>$78,228.00</td>\n    </tr>\n  </tbody>\n</table>\n</div>"
     },
     "metadata": {},
     "execution_count": 13
    }
   ],
   "source": [
    "Sal_df = pd.read_sql_query(QSal, session.bind)\n",
    "Sal_df.head(5)"
   ]
  },
  {
   "cell_type": "code",
   "execution_count": 14,
   "metadata": {},
   "outputs": [
    {
     "output_type": "execute_result",
     "data": {
      "text/plain": [
       "  title_id               title\n",
       "0    s0001               Staff\n",
       "1    s0002        Senior Staff\n",
       "2    e0001  Assistant Engineer\n",
       "3    e0002            Engineer\n",
       "4    e0003     Senior Engineer"
      ],
      "text/html": "<div>\n<style scoped>\n    .dataframe tbody tr th:only-of-type {\n        vertical-align: middle;\n    }\n\n    .dataframe tbody tr th {\n        vertical-align: top;\n    }\n\n    .dataframe thead th {\n        text-align: right;\n    }\n</style>\n<table border=\"1\" class=\"dataframe\">\n  <thead>\n    <tr style=\"text-align: right;\">\n      <th></th>\n      <th>title_id</th>\n      <th>title</th>\n    </tr>\n  </thead>\n  <tbody>\n    <tr>\n      <th>0</th>\n      <td>s0001</td>\n      <td>Staff</td>\n    </tr>\n    <tr>\n      <th>1</th>\n      <td>s0002</td>\n      <td>Senior Staff</td>\n    </tr>\n    <tr>\n      <th>2</th>\n      <td>e0001</td>\n      <td>Assistant Engineer</td>\n    </tr>\n    <tr>\n      <th>3</th>\n      <td>e0002</td>\n      <td>Engineer</td>\n    </tr>\n    <tr>\n      <th>4</th>\n      <td>e0003</td>\n      <td>Senior Engineer</td>\n    </tr>\n  </tbody>\n</table>\n</div>"
     },
     "metadata": {},
     "execution_count": 14
    }
   ],
   "source": [
    "Title_df = pd.read_sql_query(Qti, session.bind)\n",
    "Title_df.head()"
   ]
  },
  {
   "cell_type": "code",
   "execution_count": 32,
   "metadata": {},
   "outputs": [
    {
     "output_type": "execute_result",
     "data": {
      "text/plain": [
       "   emp_no title_id  birth_date  first_name  last_name sex   hire_date  \\\n",
       "0  473302    s0001  1953-07-25    Hideyuki   Zallocco   M  1990-04-28   \n",
       "1  475053    e0002  1954-11-18       Byong  Delgrande   F  1991-09-07   \n",
       "2   57444    e0002  1958-01-30       Berry       Babb   F  1992-03-21   \n",
       "3  421786    s0001  1957-09-28       Xiong   Verhoeff   M  1987-11-26   \n",
       "4  282238    e0003  1952-10-28  Abdelkader    Baumann   F  1991-01-18   \n",
       "5  263976    e0003  1959-10-30        Eran   Cusworth   M  1986-11-14   \n",
       "6  273487    s0001  1957-04-14   Christoph    Parfitt   M  1991-06-28   \n",
       "7  461591    s0002  1964-11-17      Xudong   Samarati   M  1985-11-13   \n",
       "8  477657    e0002  1962-12-18      Lihong  Magliocco   M  1993-10-23   \n",
       "9  219881    s0002  1956-04-24   Kwangyoen      Speek   F  1993-02-14   \n",
       "\n",
       "       salary  \n",
       "0  $40,000.00  \n",
       "1  $53,422.00  \n",
       "2  $48,973.00  \n",
       "3  $40,000.00  \n",
       "4  $40,000.00  \n",
       "5  $40,000.00  \n",
       "6  $56,087.00  \n",
       "7  $40,000.00  \n",
       "8  $54,816.00  \n",
       "9  $40,000.00  "
      ],
      "text/html": "<div>\n<style scoped>\n    .dataframe tbody tr th:only-of-type {\n        vertical-align: middle;\n    }\n\n    .dataframe tbody tr th {\n        vertical-align: top;\n    }\n\n    .dataframe thead th {\n        text-align: right;\n    }\n</style>\n<table border=\"1\" class=\"dataframe\">\n  <thead>\n    <tr style=\"text-align: right;\">\n      <th></th>\n      <th>emp_no</th>\n      <th>title_id</th>\n      <th>birth_date</th>\n      <th>first_name</th>\n      <th>last_name</th>\n      <th>sex</th>\n      <th>hire_date</th>\n      <th>salary</th>\n    </tr>\n  </thead>\n  <tbody>\n    <tr>\n      <th>0</th>\n      <td>473302</td>\n      <td>s0001</td>\n      <td>1953-07-25</td>\n      <td>Hideyuki</td>\n      <td>Zallocco</td>\n      <td>M</td>\n      <td>1990-04-28</td>\n      <td>$40,000.00</td>\n    </tr>\n    <tr>\n      <th>1</th>\n      <td>475053</td>\n      <td>e0002</td>\n      <td>1954-11-18</td>\n      <td>Byong</td>\n      <td>Delgrande</td>\n      <td>F</td>\n      <td>1991-09-07</td>\n      <td>$53,422.00</td>\n    </tr>\n    <tr>\n      <th>2</th>\n      <td>57444</td>\n      <td>e0002</td>\n      <td>1958-01-30</td>\n      <td>Berry</td>\n      <td>Babb</td>\n      <td>F</td>\n      <td>1992-03-21</td>\n      <td>$48,973.00</td>\n    </tr>\n    <tr>\n      <th>3</th>\n      <td>421786</td>\n      <td>s0001</td>\n      <td>1957-09-28</td>\n      <td>Xiong</td>\n      <td>Verhoeff</td>\n      <td>M</td>\n      <td>1987-11-26</td>\n      <td>$40,000.00</td>\n    </tr>\n    <tr>\n      <th>4</th>\n      <td>282238</td>\n      <td>e0003</td>\n      <td>1952-10-28</td>\n      <td>Abdelkader</td>\n      <td>Baumann</td>\n      <td>F</td>\n      <td>1991-01-18</td>\n      <td>$40,000.00</td>\n    </tr>\n    <tr>\n      <th>5</th>\n      <td>263976</td>\n      <td>e0003</td>\n      <td>1959-10-30</td>\n      <td>Eran</td>\n      <td>Cusworth</td>\n      <td>M</td>\n      <td>1986-11-14</td>\n      <td>$40,000.00</td>\n    </tr>\n    <tr>\n      <th>6</th>\n      <td>273487</td>\n      <td>s0001</td>\n      <td>1957-04-14</td>\n      <td>Christoph</td>\n      <td>Parfitt</td>\n      <td>M</td>\n      <td>1991-06-28</td>\n      <td>$56,087.00</td>\n    </tr>\n    <tr>\n      <th>7</th>\n      <td>461591</td>\n      <td>s0002</td>\n      <td>1964-11-17</td>\n      <td>Xudong</td>\n      <td>Samarati</td>\n      <td>M</td>\n      <td>1985-11-13</td>\n      <td>$40,000.00</td>\n    </tr>\n    <tr>\n      <th>8</th>\n      <td>477657</td>\n      <td>e0002</td>\n      <td>1962-12-18</td>\n      <td>Lihong</td>\n      <td>Magliocco</td>\n      <td>M</td>\n      <td>1993-10-23</td>\n      <td>$54,816.00</td>\n    </tr>\n    <tr>\n      <th>9</th>\n      <td>219881</td>\n      <td>s0002</td>\n      <td>1956-04-24</td>\n      <td>Kwangyoen</td>\n      <td>Speek</td>\n      <td>F</td>\n      <td>1993-02-14</td>\n      <td>$40,000.00</td>\n    </tr>\n  </tbody>\n</table>\n</div>"
     },
     "metadata": {},
     "execution_count": 32
    }
   ],
   "source": [
    "# Now that all the data frames are captures. Time to merge them\n",
    "\n",
    "#First Combine salary and Employees since thats easier. And I need to add the title df\n",
    "\n",
    "ComboSalEm = pd.merge(RenDF, Sal_df, on='emp_no', how='left')\n",
    "ComboSalEm.head(10)\n",
    "\n",
    "# Trying to figure why i need the title DB at this point other than getting the title names.\n"
   ]
  },
  {
   "cell_type": "code",
   "execution_count": 44,
   "metadata": {},
   "outputs": [
    {
     "output_type": "execute_result",
     "data": {
      "text/plain": [
       "   emp_no title_id  birth_date  first_name   last_name sex   hire_date  \\\n",
       "0  473302    s0001  1953-07-25    Hideyuki    Zallocco   M  1990-04-28   \n",
       "1  421786    s0001  1957-09-28       Xiong    Verhoeff   M  1987-11-26   \n",
       "2  273487    s0001  1957-04-14   Christoph     Parfitt   M  1991-06-28   \n",
       "3  246449    s0001  1958-03-23       Subbu  Bultermann   F  1988-03-25   \n",
       "4   48085    s0001  1964-01-19  Venkatesan        Gilg   M  1993-06-28   \n",
       "5  476443    s0001  1952-08-27        Ziya      Asmuth   M  1995-08-24   \n",
       "6  424270    s0001  1963-01-15      Kellyn   Yoshizawa   F  1995-05-08   \n",
       "7  427958    s0001  1957-05-03    Feixiong      Poujol   F  1985-05-11   \n",
       "8  280408    s0001  1964-09-19     Elliott        Perl   M  1987-10-29   \n",
       "9  229010    s0001  1961-11-12        Mark    Cappelli   M  1990-05-07   \n",
       "\n",
       "       salary  title  \n",
       "0  $40,000.00  Staff  \n",
       "1  $40,000.00  Staff  \n",
       "2  $56,087.00  Staff  \n",
       "3  $87,084.00  Staff  \n",
       "4  $63,016.00  Staff  \n",
       "5  $63,371.00  Staff  \n",
       "6  $60,678.00  Staff  \n",
       "7  $63,377.00  Staff  \n",
       "8  $75,963.00  Staff  \n",
       "9  $40,000.00  Staff  "
      ],
      "text/html": "<div>\n<style scoped>\n    .dataframe tbody tr th:only-of-type {\n        vertical-align: middle;\n    }\n\n    .dataframe tbody tr th {\n        vertical-align: top;\n    }\n\n    .dataframe thead th {\n        text-align: right;\n    }\n</style>\n<table border=\"1\" class=\"dataframe\">\n  <thead>\n    <tr style=\"text-align: right;\">\n      <th></th>\n      <th>emp_no</th>\n      <th>title_id</th>\n      <th>birth_date</th>\n      <th>first_name</th>\n      <th>last_name</th>\n      <th>sex</th>\n      <th>hire_date</th>\n      <th>salary</th>\n      <th>title</th>\n    </tr>\n  </thead>\n  <tbody>\n    <tr>\n      <th>0</th>\n      <td>473302</td>\n      <td>s0001</td>\n      <td>1953-07-25</td>\n      <td>Hideyuki</td>\n      <td>Zallocco</td>\n      <td>M</td>\n      <td>1990-04-28</td>\n      <td>$40,000.00</td>\n      <td>Staff</td>\n    </tr>\n    <tr>\n      <th>1</th>\n      <td>421786</td>\n      <td>s0001</td>\n      <td>1957-09-28</td>\n      <td>Xiong</td>\n      <td>Verhoeff</td>\n      <td>M</td>\n      <td>1987-11-26</td>\n      <td>$40,000.00</td>\n      <td>Staff</td>\n    </tr>\n    <tr>\n      <th>2</th>\n      <td>273487</td>\n      <td>s0001</td>\n      <td>1957-04-14</td>\n      <td>Christoph</td>\n      <td>Parfitt</td>\n      <td>M</td>\n      <td>1991-06-28</td>\n      <td>$56,087.00</td>\n      <td>Staff</td>\n    </tr>\n    <tr>\n      <th>3</th>\n      <td>246449</td>\n      <td>s0001</td>\n      <td>1958-03-23</td>\n      <td>Subbu</td>\n      <td>Bultermann</td>\n      <td>F</td>\n      <td>1988-03-25</td>\n      <td>$87,084.00</td>\n      <td>Staff</td>\n    </tr>\n    <tr>\n      <th>4</th>\n      <td>48085</td>\n      <td>s0001</td>\n      <td>1964-01-19</td>\n      <td>Venkatesan</td>\n      <td>Gilg</td>\n      <td>M</td>\n      <td>1993-06-28</td>\n      <td>$63,016.00</td>\n      <td>Staff</td>\n    </tr>\n    <tr>\n      <th>5</th>\n      <td>476443</td>\n      <td>s0001</td>\n      <td>1952-08-27</td>\n      <td>Ziya</td>\n      <td>Asmuth</td>\n      <td>M</td>\n      <td>1995-08-24</td>\n      <td>$63,371.00</td>\n      <td>Staff</td>\n    </tr>\n    <tr>\n      <th>6</th>\n      <td>424270</td>\n      <td>s0001</td>\n      <td>1963-01-15</td>\n      <td>Kellyn</td>\n      <td>Yoshizawa</td>\n      <td>F</td>\n      <td>1995-05-08</td>\n      <td>$60,678.00</td>\n      <td>Staff</td>\n    </tr>\n    <tr>\n      <th>7</th>\n      <td>427958</td>\n      <td>s0001</td>\n      <td>1957-05-03</td>\n      <td>Feixiong</td>\n      <td>Poujol</td>\n      <td>F</td>\n      <td>1985-05-11</td>\n      <td>$63,377.00</td>\n      <td>Staff</td>\n    </tr>\n    <tr>\n      <th>8</th>\n      <td>280408</td>\n      <td>s0001</td>\n      <td>1964-09-19</td>\n      <td>Elliott</td>\n      <td>Perl</td>\n      <td>M</td>\n      <td>1987-10-29</td>\n      <td>$75,963.00</td>\n      <td>Staff</td>\n    </tr>\n    <tr>\n      <th>9</th>\n      <td>229010</td>\n      <td>s0001</td>\n      <td>1961-11-12</td>\n      <td>Mark</td>\n      <td>Cappelli</td>\n      <td>M</td>\n      <td>1990-05-07</td>\n      <td>$40,000.00</td>\n      <td>Staff</td>\n    </tr>\n  </tbody>\n</table>\n</div>"
     },
     "metadata": {},
     "execution_count": 44
    }
   ],
   "source": [
    "#Combine Title with with ComboSalEm - Just notice I spelled Salem\n",
    "ComboAll = pd.merge(ComboSalEm, Title_df, on='title_id', how='outer')\n",
    "ComboAll.head(10)"
   ]
  },
  {
   "cell_type": "code",
   "execution_count": 45,
   "metadata": {},
   "outputs": [
    {
     "output_type": "execute_result",
     "data": {
      "text/plain": [
       "                           emp_no\n",
       "title                            \n",
       "Assistant Engineer  252992.595373\n",
       "Engineer            253654.345919\n",
       "Manager             110780.833333\n",
       "Senior Engineer     253038.749885\n",
       "Senior Staff        254481.798969"
      ],
      "text/html": "<div>\n<style scoped>\n    .dataframe tbody tr th:only-of-type {\n        vertical-align: middle;\n    }\n\n    .dataframe tbody tr th {\n        vertical-align: top;\n    }\n\n    .dataframe thead th {\n        text-align: right;\n    }\n</style>\n<table border=\"1\" class=\"dataframe\">\n  <thead>\n    <tr style=\"text-align: right;\">\n      <th></th>\n      <th>emp_no</th>\n    </tr>\n    <tr>\n      <th>title</th>\n      <th></th>\n    </tr>\n  </thead>\n  <tbody>\n    <tr>\n      <th>Assistant Engineer</th>\n      <td>252992.595373</td>\n    </tr>\n    <tr>\n      <th>Engineer</th>\n      <td>253654.345919</td>\n    </tr>\n    <tr>\n      <th>Manager</th>\n      <td>110780.833333</td>\n    </tr>\n    <tr>\n      <th>Senior Engineer</th>\n      <td>253038.749885</td>\n    </tr>\n    <tr>\n      <th>Senior Staff</th>\n      <td>254481.798969</td>\n    </tr>\n  </tbody>\n</table>\n</div>"
     },
     "metadata": {},
     "execution_count": 45
    }
   ],
   "source": [
    "#Now that we got merge all the DB. Do a group by \n",
    "\n",
    "GroupSalary = ComboAll.groupby(by='salary')\n",
    "GroupSalary.head()\n",
    "\n",
    "GroupTitle = ComboAll.groupby(by='title').mean()\n",
    "GroupTitle.head()\n",
    "\n",
    "# We got 2 database for groupby each one will have a use later. I may or may not need to drop columns now or later if i get stuck.\n",
    "\n",
    "#I am only seeing title_id, and emp_no. That does not look normal"
   ]
  },
  {
   "cell_type": "code",
   "execution_count": 36,
   "metadata": {},
   "outputs": [
    {
     "output_type": "execute_result",
     "data": {
      "text/plain": [
       "        emp_no title_id  birth_date   first_name  last_name sex   hire_date  \\\n",
       "0       473302    s0001  1953-07-25     Hideyuki   Zallocco   M  1990-04-28   \n",
       "1       475053    e0002  1954-11-18        Byong  Delgrande   F  1991-09-07   \n",
       "2        57444    e0002  1958-01-30        Berry       Babb   F  1992-03-21   \n",
       "3       421786    s0001  1957-09-28        Xiong   Verhoeff   M  1987-11-26   \n",
       "4       282238    e0003  1952-10-28   Abdelkader    Baumann   F  1991-01-18   \n",
       "...        ...      ...         ...          ...        ...  ..         ...   \n",
       "300019  464231    s0001  1958-08-14  Constantino    Eastman   M  1988-10-28   \n",
       "300020  255832    e0002  1955-05-08       Yuping     Dayang   F  1995-02-26   \n",
       "300021   76671    s0001  1959-06-09       Ortrud   Plessier   M  1988-02-24   \n",
       "300022  264920    s0001  1959-09-22        Percy   Samarati   F  1994-09-08   \n",
       "300023  464503    s0002  1964-05-31       Arvind  Slobodova   M  1987-11-23   \n",
       "\n",
       "            salary            title  \n",
       "0       $40,000.00            Staff  \n",
       "1       $53,422.00         Engineer  \n",
       "2       $48,973.00         Engineer  \n",
       "3       $40,000.00            Staff  \n",
       "4       $40,000.00  Senior Engineer  \n",
       "...            ...              ...  \n",
       "300019  $69,696.00            Staff  \n",
       "300020  $75,355.00         Engineer  \n",
       "300021  $61,886.00            Staff  \n",
       "300022  $62,772.00            Staff  \n",
       "300023  $41,708.00     Senior Staff  \n",
       "\n",
       "[167417 rows x 9 columns]"
      ],
      "text/html": "<div>\n<style scoped>\n    .dataframe tbody tr th:only-of-type {\n        vertical-align: middle;\n    }\n\n    .dataframe tbody tr th {\n        vertical-align: top;\n    }\n\n    .dataframe thead th {\n        text-align: right;\n    }\n</style>\n<table border=\"1\" class=\"dataframe\">\n  <thead>\n    <tr style=\"text-align: right;\">\n      <th></th>\n      <th>emp_no</th>\n      <th>title_id</th>\n      <th>birth_date</th>\n      <th>first_name</th>\n      <th>last_name</th>\n      <th>sex</th>\n      <th>hire_date</th>\n      <th>salary</th>\n      <th>title</th>\n    </tr>\n  </thead>\n  <tbody>\n    <tr>\n      <th>0</th>\n      <td>473302</td>\n      <td>s0001</td>\n      <td>1953-07-25</td>\n      <td>Hideyuki</td>\n      <td>Zallocco</td>\n      <td>M</td>\n      <td>1990-04-28</td>\n      <td>$40,000.00</td>\n      <td>Staff</td>\n    </tr>\n    <tr>\n      <th>1</th>\n      <td>475053</td>\n      <td>e0002</td>\n      <td>1954-11-18</td>\n      <td>Byong</td>\n      <td>Delgrande</td>\n      <td>F</td>\n      <td>1991-09-07</td>\n      <td>$53,422.00</td>\n      <td>Engineer</td>\n    </tr>\n    <tr>\n      <th>2</th>\n      <td>57444</td>\n      <td>e0002</td>\n      <td>1958-01-30</td>\n      <td>Berry</td>\n      <td>Babb</td>\n      <td>F</td>\n      <td>1992-03-21</td>\n      <td>$48,973.00</td>\n      <td>Engineer</td>\n    </tr>\n    <tr>\n      <th>3</th>\n      <td>421786</td>\n      <td>s0001</td>\n      <td>1957-09-28</td>\n      <td>Xiong</td>\n      <td>Verhoeff</td>\n      <td>M</td>\n      <td>1987-11-26</td>\n      <td>$40,000.00</td>\n      <td>Staff</td>\n    </tr>\n    <tr>\n      <th>4</th>\n      <td>282238</td>\n      <td>e0003</td>\n      <td>1952-10-28</td>\n      <td>Abdelkader</td>\n      <td>Baumann</td>\n      <td>F</td>\n      <td>1991-01-18</td>\n      <td>$40,000.00</td>\n      <td>Senior Engineer</td>\n    </tr>\n    <tr>\n      <th>...</th>\n      <td>...</td>\n      <td>...</td>\n      <td>...</td>\n      <td>...</td>\n      <td>...</td>\n      <td>...</td>\n      <td>...</td>\n      <td>...</td>\n      <td>...</td>\n    </tr>\n    <tr>\n      <th>300019</th>\n      <td>464231</td>\n      <td>s0001</td>\n      <td>1958-08-14</td>\n      <td>Constantino</td>\n      <td>Eastman</td>\n      <td>M</td>\n      <td>1988-10-28</td>\n      <td>$69,696.00</td>\n      <td>Staff</td>\n    </tr>\n    <tr>\n      <th>300020</th>\n      <td>255832</td>\n      <td>e0002</td>\n      <td>1955-05-08</td>\n      <td>Yuping</td>\n      <td>Dayang</td>\n      <td>F</td>\n      <td>1995-02-26</td>\n      <td>$75,355.00</td>\n      <td>Engineer</td>\n    </tr>\n    <tr>\n      <th>300021</th>\n      <td>76671</td>\n      <td>s0001</td>\n      <td>1959-06-09</td>\n      <td>Ortrud</td>\n      <td>Plessier</td>\n      <td>M</td>\n      <td>1988-02-24</td>\n      <td>$61,886.00</td>\n      <td>Staff</td>\n    </tr>\n    <tr>\n      <th>300022</th>\n      <td>264920</td>\n      <td>s0001</td>\n      <td>1959-09-22</td>\n      <td>Percy</td>\n      <td>Samarati</td>\n      <td>F</td>\n      <td>1994-09-08</td>\n      <td>$62,772.00</td>\n      <td>Staff</td>\n    </tr>\n    <tr>\n      <th>300023</th>\n      <td>464503</td>\n      <td>s0002</td>\n      <td>1964-05-31</td>\n      <td>Arvind</td>\n      <td>Slobodova</td>\n      <td>M</td>\n      <td>1987-11-23</td>\n      <td>$41,708.00</td>\n      <td>Senior Staff</td>\n    </tr>\n  </tbody>\n</table>\n<p>167417 rows × 9 columns</p>\n</div>"
     },
     "metadata": {},
     "execution_count": 36
    }
   ],
   "source": [
    "\n",
    "GroupSalary = ComboAll.groupby(by='salary')\n",
    "GroupSalary.head()"
   ]
  },
  {
   "cell_type": "code",
   "execution_count": 31,
   "metadata": {},
   "outputs": [],
   "source": [
    "# plt.hist(GroupSalary['salary'],histtype='bar', color='red')\n",
    "# plt.show\n",
    "\n",
    "#I cant seem to get this to work. So im commenting it out and moving forward. If this would have work i would have populated the table. Im probably forgetting something.\n",
    "\n"
   ]
  },
  {
   "cell_type": "code",
   "execution_count": null,
   "metadata": {},
   "outputs": [],
   "source": [
    "#Bar Chart\n",
    "\n",
    "idbar = plt.bar(GroupTitle['title'], GroupTitle[''])\n",
    "plt.show()"
   ]
  }
 ],
 "metadata": {
  "kernelspec": {
   "name": "python3",
   "display_name": "Python 3.7.9 64-bit ('PythonData': conda)",
   "metadata": {
    "interpreter": {
     "hash": "814a3cc5b37467930fade82cd366dd81f3df8ec2df8c497f14148245c5c509db"
    }
   }
  },
  "language_info": {
   "codemirror_mode": {
    "name": "ipython",
    "version": 3
   },
   "file_extension": ".py",
   "mimetype": "text/x-python",
   "name": "python",
   "nbconvert_exporter": "python",
   "pygments_lexer": "ipython3",
   "version": "3.7.9-final"
  }
 },
 "nbformat": 4,
 "nbformat_minor": 4
}