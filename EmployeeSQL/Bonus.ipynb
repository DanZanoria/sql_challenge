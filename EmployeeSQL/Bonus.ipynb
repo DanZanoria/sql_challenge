{
 "cells": [
  {
   "cell_type": "code",
   "execution_count": 5,
   "metadata": {},
   "outputs": [],
   "source": [
    "# I will add extra steps to this code just so I can review the next homework, I will be making several assumptions.\n",
    "# Assumption 1: The SQL database was not studied thoroughly.\n",
    "# Assumption 2: This is the first file opened either by acccident or in purpose. \n",
    "    # Going by Assumption 2. That means everything known about the DB is unknown.\n",
    "\n",
    "# First Lets get the Password And Username imported\n",
    "from config import USERN, PWD\n",
    "\n",
    "import sqlalchemy\n",
    "from sqlalchemy.orm import Session\n",
    "from sqlalchemy.ext.automap import automap_base\n",
    "from sqlalchemy import create_engine, inspect, func\n",
    "\n",
    "# Creating the Engine\n",
    "from sqlalchemy import create_engine\n",
    "engine = create_engine(f'postgresql://'+USERN+':'+ PWD +'@localhost:5432/EmployeeDBz')\n",
    "connection = engine.connect()\n",
    "\n",
    "# Install Matplotlib to chart\n",
    "import pandas as pd\n",
    "import matplotlib\n",
    "from matplotlib import style\n",
    "style.use('seaborn')\n",
    "import matplotlib.pyplot as plt\n"
   ]
  },
  {
   "cell_type": "code",
   "execution_count": 7,
   "metadata": {},
   "outputs": [
    {
     "output_type": "execute_result",
     "data": {
      "text/plain": [
       "['dept_empl', 'departments', 'salaries', 'titles', 'employees', 'dept_man']"
      ]
     },
     "metadata": {},
     "execution_count": 7
    }
   ],
   "source": [
    "\n",
    "# Inspector is used to get all the table names.\n",
    "\n",
    "inspector = inspect(engine)\n",
    "inspector.get_table_names()\n",
    "\n",
    "\n"
   ]
  },
  {
   "cell_type": "code",
   "execution_count": 10,
   "metadata": {},
   "outputs": [
    {
     "output_type": "execute_result",
     "data": {
      "text/plain": [
       "[{'name': 'emp_no',\n",
       "  'type': INTEGER(),\n",
       "  'nullable': False,\n",
       "  'default': None,\n",
       "  'autoincrement': False,\n",
       "  'comment': None},\n",
       " {'name': 'salary',\n",
       "  'type': MONEY(),\n",
       "  'nullable': False,\n",
       "  'default': None,\n",
       "  'autoincrement': False,\n",
       "  'comment': None}]"
      ]
     },
     "metadata": {},
     "execution_count": 10
    }
   ],
   "source": [
    "# So we got 6 tables\n",
    "# From this 6 we need employees, titles, salaries\n",
    "\n",
    "# Lets see the what are the data types for the 3 tables. And their respective column names\n",
    "# This will also have a copy and paste purpose later on\n",
    "\n",
    "SalaryCol = inspector.get_columns('salaries')\n",
    "SalaryCol"
   ]
  },
  {
   "cell_type": "code",
   "execution_count": 11,
   "metadata": {},
   "outputs": [
    {
     "output_type": "execute_result",
     "data": {
      "text/plain": [
       "[{'name': 'emp_no',\n",
       "  'type': INTEGER(),\n",
       "  'nullable': False,\n",
       "  'default': None,\n",
       "  'autoincrement': False,\n",
       "  'comment': None},\n",
       " {'name': 'emp_title_id',\n",
       "  'type': VARCHAR(),\n",
       "  'nullable': False,\n",
       "  'default': None,\n",
       "  'autoincrement': False,\n",
       "  'comment': None},\n",
       " {'name': 'birth_date',\n",
       "  'type': DATE(),\n",
       "  'nullable': False,\n",
       "  'default': None,\n",
       "  'autoincrement': False,\n",
       "  'comment': None},\n",
       " {'name': 'first_name',\n",
       "  'type': VARCHAR(),\n",
       "  'nullable': False,\n",
       "  'default': None,\n",
       "  'autoincrement': False,\n",
       "  'comment': None},\n",
       " {'name': 'last_name',\n",
       "  'type': VARCHAR(),\n",
       "  'nullable': False,\n",
       "  'default': None,\n",
       "  'autoincrement': False,\n",
       "  'comment': None},\n",
       " {'name': 'sex',\n",
       "  'type': VARCHAR(),\n",
       "  'nullable': False,\n",
       "  'default': None,\n",
       "  'autoincrement': False,\n",
       "  'comment': None},\n",
       " {'name': 'hire_date',\n",
       "  'type': DATE(),\n",
       "  'nullable': False,\n",
       "  'default': None,\n",
       "  'autoincrement': False,\n",
       "  'comment': None}]"
      ]
     },
     "metadata": {},
     "execution_count": 11
    }
   ],
   "source": [
    "EmpCol = inspector.get_columns('employees')\n",
    "EmpCol"
   ]
  },
  {
   "cell_type": "code",
   "execution_count": 12,
   "metadata": {},
   "outputs": [
    {
     "output_type": "execute_result",
     "data": {
      "text/plain": [
       "[{'name': 'title_id',\n",
       "  'type': VARCHAR(),\n",
       "  'nullable': False,\n",
       "  'default': None,\n",
       "  'autoincrement': False,\n",
       "  'comment': None},\n",
       " {'name': 'title',\n",
       "  'type': VARCHAR(),\n",
       "  'nullable': False,\n",
       "  'default': None,\n",
       "  'autoincrement': False,\n",
       "  'comment': None}]"
      ]
     },
     "metadata": {},
     "execution_count": 12
    }
   ],
   "source": [
    "titlesCol = inspector.get_columns('titles')\n",
    "titlesCol"
   ]
  },
  {
   "cell_type": "code",
   "execution_count": null,
   "metadata": {},
   "outputs": [],
   "source": []
  }
 ],
 "metadata": {
  "kernelspec": {
   "name": "python3",
   "display_name": "Python 3.7.9 64-bit ('PythonData': conda)",
   "metadata": {
    "interpreter": {
     "hash": "814a3cc5b37467930fade82cd366dd81f3df8ec2df8c497f14148245c5c509db"
    }
   }
  },
  "language_info": {
   "codemirror_mode": {
    "name": "ipython",
    "version": 3
   },
   "file_extension": ".py",
   "mimetype": "text/x-python",
   "name": "python",
   "nbconvert_exporter": "python",
   "pygments_lexer": "ipython3",
   "version": "3.7.9-final"
  }
 },
 "nbformat": 4,
 "nbformat_minor": 4
}