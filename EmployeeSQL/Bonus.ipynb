{
 "cells": [
  {
   "cell_type": "code",
   "execution_count": 30,
   "metadata": {},
   "outputs": [],
   "source": [
    "# I will add extra steps to this code just so I can review the next homework, I will be making several assumptions.\n",
    "# Assumption 1: The SQL database was not studied thoroughly.\n",
    "# Assumption 2: This is the first file opened either by acccident or in purpose. \n",
    "    # Going by Assumption 2. That means everything known about the DB is unknown.\n",
    "#Assumption 3: I am using this a thorough review. So i will put comments throughout to indicate where its really a review sake and not really belonging to either the above assumption.\n",
    "\n",
    "# First Lets get the Password And Username imported\n",
    "from config import USERN, PWD\n",
    "\n",
    "import sqlalchemy\n",
    "from sqlalchemy.orm import Session\n",
    "from sqlalchemy.ext.automap import automap_base\n",
    "from sqlalchemy import create_engine, inspect, func\n",
    "\n",
    "# Creating the Engine\n",
    "from sqlalchemy import create_engine\n",
    "engine = create_engine(f'postgresql://'+USERN+':'+ PWD +'@localhost:5432/EmployeeDBz')\n",
    "connection = engine.connect()\n",
    "\n",
    "# Install Matplotlib to chart\n",
    "import pandas as pd\n",
    "import matplotlib\n",
    "from matplotlib import style\n",
    "style.use('seaborn')\n",
    "import matplotlib.pyplot as plt\n"
   ]
  },
  {
   "cell_type": "code",
   "execution_count": 31,
   "metadata": {},
   "outputs": [
    {
     "output_type": "execute_result",
     "data": {
      "text/plain": [
       "['dept_empl', 'departments', 'salaries', 'titles', 'employees', 'dept_man']"
      ]
     },
     "metadata": {},
     "execution_count": 31
    }
   ],
   "source": [
    "\n",
    "# Inspector is used to get all the table names.\n",
    "\n",
    "inspector = inspect(engine)\n",
    "inspector.get_table_names()\n",
    "\n",
    "\n"
   ]
  },
  {
   "cell_type": "code",
   "execution_count": 32,
   "metadata": {},
   "outputs": [
    {
     "output_type": "execute_result",
     "data": {
      "text/plain": [
       "[{'name': 'emp_no',\n",
       "  'type': INTEGER(),\n",
       "  'nullable': False,\n",
       "  'default': None,\n",
       "  'autoincrement': False,\n",
       "  'comment': None},\n",
       " {'name': 'salary',\n",
       "  'type': MONEY(),\n",
       "  'nullable': False,\n",
       "  'default': None,\n",
       "  'autoincrement': False,\n",
       "  'comment': None}]"
      ]
     },
     "metadata": {},
     "execution_count": 32
    }
   ],
   "source": [
    "# So we got 6 tables\n",
    "# From this 6 we need employees, titles, salaries\n",
    "\n",
    "# Lets see the what are the data types for the 3 tables. And their respective column names\n",
    "# This will also have a copy and paste purpose later on\n",
    "\n",
    "SalaryCol = inspector.get_columns('salaries')\n",
    "SalaryCol"
   ]
  },
  {
   "cell_type": "code",
   "execution_count": 33,
   "metadata": {},
   "outputs": [
    {
     "output_type": "execute_result",
     "data": {
      "text/plain": [
       "[{'name': 'emp_no',\n",
       "  'type': INTEGER(),\n",
       "  'nullable': False,\n",
       "  'default': None,\n",
       "  'autoincrement': False,\n",
       "  'comment': None},\n",
       " {'name': 'emp_title_id',\n",
       "  'type': VARCHAR(),\n",
       "  'nullable': False,\n",
       "  'default': None,\n",
       "  'autoincrement': False,\n",
       "  'comment': None},\n",
       " {'name': 'birth_date',\n",
       "  'type': DATE(),\n",
       "  'nullable': False,\n",
       "  'default': None,\n",
       "  'autoincrement': False,\n",
       "  'comment': None},\n",
       " {'name': 'first_name',\n",
       "  'type': VARCHAR(),\n",
       "  'nullable': False,\n",
       "  'default': None,\n",
       "  'autoincrement': False,\n",
       "  'comment': None},\n",
       " {'name': 'last_name',\n",
       "  'type': VARCHAR(),\n",
       "  'nullable': False,\n",
       "  'default': None,\n",
       "  'autoincrement': False,\n",
       "  'comment': None},\n",
       " {'name': 'sex',\n",
       "  'type': VARCHAR(),\n",
       "  'nullable': False,\n",
       "  'default': None,\n",
       "  'autoincrement': False,\n",
       "  'comment': None},\n",
       " {'name': 'hire_date',\n",
       "  'type': DATE(),\n",
       "  'nullable': False,\n",
       "  'default': None,\n",
       "  'autoincrement': False,\n",
       "  'comment': None}]"
      ]
     },
     "metadata": {},
     "execution_count": 33
    }
   ],
   "source": [
    "EmpCol = inspector.get_columns('employees')\n",
    "EmpCol\n",
    "\n",
    "# The employee dabtabase is not really needed but it connect to both salaries, and title DB with its emp_no PK and emp_title_id. So it will be bridge that connects the 2 database."
   ]
  },
  {
   "cell_type": "code",
   "execution_count": 34,
   "metadata": {},
   "outputs": [
    {
     "output_type": "execute_result",
     "data": {
      "text/plain": [
       "[{'name': 'title_id',\n",
       "  'type': VARCHAR(),\n",
       "  'nullable': False,\n",
       "  'default': None,\n",
       "  'autoincrement': False,\n",
       "  'comment': None},\n",
       " {'name': 'title',\n",
       "  'type': VARCHAR(),\n",
       "  'nullable': False,\n",
       "  'default': None,\n",
       "  'autoincrement': False,\n",
       "  'comment': None}]"
      ]
     },
     "metadata": {},
     "execution_count": 34
    }
   ],
   "source": [
    "titlesCol = inspector.get_columns('titles')\n",
    "titlesCol"
   ]
  },
  {
   "cell_type": "code",
   "execution_count": 35,
   "metadata": {},
   "outputs": [
    {
     "output_type": "execute_result",
     "data": {
      "text/plain": [
       "[('s0001', 'Staff'),\n",
       " ('s0002', 'Senior Staff'),\n",
       " ('e0001', 'Assistant Engineer'),\n",
       " ('e0002', 'Engineer'),\n",
       " ('e0003', 'Senior Engineer'),\n",
       " ('e0004', 'Technique Leader'),\n",
       " ('m0001', 'Manager')]"
      ]
     },
     "metadata": {},
     "execution_count": 35
    }
   ],
   "source": [
    "# Performing an Engine Execute to get at least the Data in Employee. With a LIMIT 20. I want to see a lot of the data but not all the data.\n",
    "engine.execute('SELECT * FROM employees LIMIT 20').fetchall()\n",
    "engine.execute('SELECT * FROM salaries LIMIT 20').fetchall()\n",
    "engine.execute('SELECT * FROM titles').fetchall()\n",
    "#Just comment out the 2 that doesnt need to be seen. This is the final part in studying the Data. And titles only have a rows so Limit 20 is not needed. But feel free to put it back on just for consistency.\n",
    "\n"
   ]
  },
  {
   "cell_type": "code",
   "execution_count": 44,
   "metadata": {},
   "outputs": [],
   "source": [
    "\n",
    "#Now we can either reflect the Database to study it further or move forward. Since Im using this as a review. Lets reflect the DB to study it further.\n",
    "\n",
    "#Lets prepare the base to prepare for the reflection. And we can see how all this Data looks like. I would really look like. Since inspect is really just more less about the columns, and execute only shows the data.\n",
    "Base1 = automap_base()\n",
    "Base1.prepare(engine, reflect=True)\n",
    "Title = Base.classes.titles\n",
    "\n",
    "\n",
    "\n",
    "Base3 = automap_base()\n",
    "Base3.prepare(engine, reflect=True)\n",
    "Employees = Base.classes.employees\n",
    "\n",
    "# Base2 = automap_base()\n",
    "# Base2.prepare(engine, reflect=True)\n",
    "# Salaries = Base.classes.salaries\n",
    "\n",
    "#commenting out Salaries. I may have made an error while building the DB since self._data[key] error. \n",
    "#It wont be fixed for this assignment unless it will give me issues later on.\n"
   ]
  },
  {
   "cell_type": "code",
   "execution_count": 63,
   "metadata": {},
   "outputs": [
    {
     "output_type": "execute_result",
     "data": {
      "text/plain": [
       "{'_sa_instance_state': <sqlalchemy.orm.state.InstanceState at 0x1fb002e8588>,\n",
       " 'title': 'Staff',\n",
       " 'title_id': 's0001'}"
      ]
     },
     "metadata": {},
     "execution_count": 63
    }
   ],
   "source": [
    "# For simplicity the one i want see will be the last which is salaries. Since thats the main criteria. And I only want to see the first row. It will be too much on employees,\n",
    "\n",
    "Empl1 = session.query(Employees).first()\n",
    "Empl1.__dict__\n",
    "\n",
    "title1 = session.query(Title).first()\n",
    "title1.__dict__\n",
    "\n",
    "# I tried switching to .first to .all but i got a no attribute error __.dict___. Thats something I will look into more later. It will be ignored for this assignment.\n"
   ]
  },
  {
   "cell_type": "code",
   "execution_count": 64,
   "metadata": {},
   "outputs": [],
   "source": [
    "# Now that we got know what Data we are working and what Data Types now we can start working\n",
    "\n",
    "# Start a session to query the database\n",
    "session = Session(engine)"
   ]
  },
  {
   "cell_type": "code",
   "execution_count": null,
   "metadata": {},
   "outputs": [],
   "source": []
  },
  {
   "cell_type": "code",
   "execution_count": null,
   "metadata": {},
   "outputs": [],
   "source": []
  }
 ],
 "metadata": {
  "kernelspec": {
   "name": "python3",
   "display_name": "Python 3.7.9 64-bit ('PythonData': conda)",
   "metadata": {
    "interpreter": {
     "hash": "814a3cc5b37467930fade82cd366dd81f3df8ec2df8c497f14148245c5c509db"
    }
   }
  },
  "language_info": {
   "codemirror_mode": {
    "name": "ipython",
    "version": 3
   },
   "file_extension": ".py",
   "mimetype": "text/x-python",
   "name": "python",
   "nbconvert_exporter": "python",
   "pygments_lexer": "ipython3",
   "version": "3.7.9-final"
  }
 },
 "nbformat": 4,
 "nbformat_minor": 4
}